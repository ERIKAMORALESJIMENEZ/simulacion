{
  "nbformat": 4,
  "nbformat_minor": 0,
  "metadata": {
    "colab": {
      "provenance": [],
      "authorship_tag": "ABX9TyNdOf8AsGXcEfBNuop1/g5k",
      "include_colab_link": true
    },
    "kernelspec": {
      "name": "python3",
      "display_name": "Python 3"
    },
    "language_info": {
      "name": "python"
    }
  },
  "cells": [
    {
      "cell_type": "markdown",
      "metadata": {
        "id": "view-in-github",
        "colab_type": "text"
      },
      "source": [
        "<a href=\"https://colab.research.google.com/github/ERIKAMORALESJIMENEZ/simulacion/blob/main/CuadradosMedio.ipynb\" target=\"_parent\"><img src=\"https://colab.research.google.com/assets/colab-badge.svg\" alt=\"Open In Colab\"/></a>"
      ]
    },
    {
      "cell_type": "markdown",
      "source": [
        "Primero definimos los valores de los limites superior e inferior y los metemos dentro de una cadena con signo negativo para que el cógido lo lea de derecha a izquierda.\n"
      ],
      "metadata": {
        "id": "sqK4Yy2qdigl"
      }
    },
    {
      "cell_type": "code",
      "source": [
        "def center(size,number):\n",
        "  ls=size//2\n",
        "  li=size+ls\n",
        "  return str(number)[-li:-ls]"
      ],
      "metadata": {
        "id": "gVnyGnwKeM_T"
      },
      "execution_count": null,
      "outputs": []
    },
    {
      "cell_type": "markdown",
      "source": [
        "\n",
        "Después tenemos una función para leer la cadena, deginimos como flotante y utilizamos una lista que nos va a regresar un valor ri"
      ],
      "metadata": {
        "id": "5WlZgMVVeOah"
      }
    },
    {
      "cell_type": "code",
      "source": [
        "def aleo_meansSquare(n,seed):\n",
        "  size = len(str(seed))\n",
        "  xi = seed\n",
        "  ri = []\n",
        "  for _ in range(n):\n",
        "    xi=xi**2\n",
        "    c= center(size,xi)\n",
        "    xi = int(c)\n",
        "    ri.append(float(\"0.\"+c))\n",
        "    return ri\n",
        "if __name__==\"__main__\":\n",
        "  n=int(input(\"Ingrese el numero de numeros aleatorios a generar\"))\n",
        "  seed=int(input(\"Ingrese el valor de la semilla:\"))\n",
        "  list_random=aleo_meansSquare(n,seed)\n",
        "  print(list_random)"
      ],
      "metadata": {
        "id": "WtDU9F6hePP5"
      },
      "execution_count": null,
      "outputs": []
    },
    {
      "cell_type": "markdown",
      "source": [
        "Para terminar pedimos que se ingrese el numero de numeros aleatorios que se desean obtener a partir de una semilla, y se le pide al codigo que se lean estos datos y los ingrese a la función que definimos y por ultimo regresa e valor del producto medio del valor de la semilla que le dimos."
      ],
      "metadata": {
        "id": "sc9ylCYVecpv"
      }
    },
    {
      "cell_type": "code",
      "source": [
        "if __name__==\"__main__\":\n",
        "  n=int(input(\"Ingrese el numero de numeros aleatorios a generar\"))\n",
        "  seed=int(input(\"Ingrese el valor de la semilla:\"))\n",
        "  list_random=aleo_meansSquare(n,seed)\n",
        "  print(list_random)"
      ],
      "metadata": {
        "id": "q1g8ngj8ebtl"
      },
      "execution_count": null,
      "outputs": []
    },
    {
      "cell_type": "code",
      "source": [
        "\n",
        "def center(size,number):\n",
        "  ls=size//2\n",
        "  li=size+ls\n",
        "  return str(number)[-li:-ls]\n",
        "\n",
        "def aleo_meansSquare(n,seed):\n",
        "  size = len(str(seed))\n",
        "  xi = seed\n",
        "  ri = []\n",
        "  for _ in range(n):\n",
        "    xi=xi**2\n",
        "    c= center(size,xi)\n",
        "    xi = int(c)\n",
        "    ri.append(float(\"0.\"+c))\n",
        "  return ri\n",
        "if __name__==\"__main__\":\n",
        "  n=int(input(\"Ingrese el numero de numeros aleatorios a generar\"))\n",
        "  seed=int(input(\"Ingrese el valor de la semilla:\"))\n",
        "  list_random=aleo_meansSquare(n,seed)\n",
        "  print(list_random)"
      ],
      "metadata": {
        "colab": {
          "base_uri": "https://localhost:8080/"
        },
        "id": "qEzDVV05e88d",
        "outputId": "96735bc6-3069-4183-b592-cf335e889777"
      },
      "execution_count": null,
      "outputs": [
        {
          "output_type": "stream",
          "name": "stdout",
          "text": [
            "Ingrese el numero de numeros aleatorios a generar5\n",
            "Ingrese el valor de la semilla:5735\n",
            "[0.8902, 0.2456, 0.0319, 0.1017, 0.0342]\n"
          ]
        }
      ]
    }
  ]
}