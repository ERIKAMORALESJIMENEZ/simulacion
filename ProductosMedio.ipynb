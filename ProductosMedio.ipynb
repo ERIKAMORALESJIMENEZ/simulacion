{
  "nbformat": 4,
  "nbformat_minor": 0,
  "metadata": {
    "colab": {
      "provenance": [],
      "authorship_tag": "ABX9TyPgRMTrrAxDXG9tiO8WARp4",
      "include_colab_link": true
    },
    "kernelspec": {
      "name": "python3",
      "display_name": "Python 3"
    },
    "language_info": {
      "name": "python"
    }
  },
  "cells": [
    {
      "cell_type": "markdown",
      "metadata": {
        "id": "view-in-github",
        "colab_type": "text"
      },
      "source": [
        "<a href=\"https://colab.research.google.com/github/ERIKAMORALESJIMENEZ/simulacion/blob/main/ProductosMedio.ipynb\" target=\"_parent\"><img src=\"https://colab.research.google.com/assets/colab-badge.svg\" alt=\"Open In Colab\"/></a>"
      ]
    },
    {
      "cell_type": "markdown",
      "source": [
        "Igual que con el programa anterior definimos primero los limites superiores e ingeriores pero ahora vamos a tener que introducir y leer el valor de dos semillas, la razon por la que solo vamos a leer el tamaño de una semilla es por que en teoria las dos semillas comparten el mismo tamaño"
      ],
      "metadata": {
        "id": "YZOXjYihiHB5"
      }
    },
    {
      "cell_type": "code",
      "source": [
        "def center(size, number):\n",
        "  ls=size//2\n",
        "  li=size+ls\n",
        "  return str(number)[-li:-ls]\n",
        "\n",
        "def aleo_meansProducto(n,seem1,seem2):\n",
        "  size = len(str(seem1))\n",
        "  x0 = seem1\n",
        "  x1 = seem2\n",
        "  ri = []\n",
        "  for _ in range(n):\n",
        "    xi = x0*x1\n",
        "    c = center(size,xi)\n",
        "    x0 = x1\n",
        "    x1 = int (c)\n",
        "    ri.append(float(\"0.\"+c))\n",
        "  return ri"
      ],
      "metadata": {
        "id": "EvCt_CjUiHZ_"
      },
      "execution_count": null,
      "outputs": []
    },
    {
      "cell_type": "markdown",
      "source": [
        "Ahora lo unico que vamos a pedir es el valor de las dos semillas y la cantidad de numeros aleatorios deseados a generar, es vastante similar al anteior programa solo que ahora estaremos introduciendo en la lista el valor de ambas semillas."
      ],
      "metadata": {
        "id": "oh5XRD6wiHru"
      }
    },
    {
      "cell_type": "code",
      "source": [
        "def center(size, number):\n",
        "  ls=size//2\n",
        "  li=size+ls\n",
        "  return str(number)[-li:-ls]\n",
        "\n",
        "def aleo_meansProducto(n,seem1,seem2):\n",
        "  size = len(str(seem1))\n",
        "  x0 = seem1\n",
        "  x1 = seem2\n",
        "  ri = []\n",
        "  for _ in range(n):\n",
        "    xi = x0*x1\n",
        "    c = center(size,xi)\n",
        "    x0 = x1\n",
        "    x1 = int (c)\n",
        "    ri.append(float(\"0.\"+c))\n",
        "  return ri\n",
        "\n",
        "if __name__ == \"__main__\":\n",
        "  n = int(input(\"Ingrese el numero deseado de numero aleatorios a generar\"))\n",
        "  seem1= int(input(\"Ingrese el valor de la primera semilla:\"))\n",
        "  seem2 = int(input(\"Ingrese el valor de la segunda semilla\"))\n",
        "  list_random = aleo_meansProducto(n,seem1,seem2)\n",
        "  print(list_random)"
      ],
      "metadata": {
        "id": "Za0LcsFhiH3X",
        "colab": {
          "base_uri": "https://localhost:8080/"
        },
        "outputId": "68ba0210-574f-4a1b-ec98-45d62c34d82b"
      },
      "execution_count": null,
      "outputs": [
        {
          "output_type": "stream",
          "name": "stdout",
          "text": [
            "Ingrese el numero deseado de numero aleatorios a generar5\n",
            "Ingrese el valor de la primera semilla:5015\n",
            "Ingrese el valor de la segunda semilla5734\n",
            "[0.756, 0.349, 0.3844, 0.4155, 0.9718]\n"
          ]
        }
      ]
    }
  ]
}