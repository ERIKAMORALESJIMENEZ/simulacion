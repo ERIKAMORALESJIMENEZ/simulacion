{
  "nbformat": 4,
  "nbformat_minor": 0,
  "metadata": {
    "colab": {
      "provenance": []
    },
    "kernelspec": {
      "name": "python3",
      "display_name": "Python 3"
    },
    "language_info": {
      "name": "python"
    }
  },
  "cells": [
    {
      "cell_type": "code",
      "source": [
        "!pip install openpyxl\n",
        "import openpyxl"
      ],
      "metadata": {
        "colab": {
          "base_uri": "https://localhost:8080/"
        },
        "id": "jkM7iUTEZwvy",
        "outputId": "8afa4531-2769-444f-e2e0-f84b12422630"
      },
      "execution_count": 4,
      "outputs": [
        {
          "output_type": "stream",
          "name": "stdout",
          "text": [
            "Requirement already satisfied: openpyxl in /usr/local/lib/python3.10/dist-packages (3.1.2)\n",
            "Requirement already satisfied: et-xmlfile in /usr/local/lib/python3.10/dist-packages (from openpyxl) (1.1.0)\n"
          ]
        }
      ]
    },
    {
      "cell_type": "code",
      "execution_count": 111,
      "metadata": {
        "id": "iJrj9tH2VPp6",
        "colab": {
          "base_uri": "https://localhost:8080/"
        },
        "outputId": "7267c052-4648-4082-a0af-2c6eeffaae11"
      },
      "outputs": [
        {
          "output_type": "stream",
          "name": "stdout",
          "text": [
            "x_i:  [0.048, 0.591, 0.478, 0.166, 0.932, 0.926, 0.007, 0.551, 0.362, 0.533, 0.368, 0.437, 0.178, 0.411, 0.545, 0.787, 0.594, 0.086, 0.951, 0.772, 0.298, 0.199, 0.157, 0.401, 0.631]\n",
            "cantidad de elementos:  25\n",
            "s= [1, 0, 0, 1, 0, 0, 1, 0, 1, 0, 1, 0, 1, 1, 1, 0, 0, 1, 0, 0, 0, 0, 1, 1]\n",
            "corrida=  15\n",
            "longitud=  [1, 2, 1, 2, 1, 1, 1, 1, 1, 1, 3, 2, 1, 4, 2]\n",
            "Media= 16.333333333333332\n",
            "Varianza= 4.122222222222222\n",
            "Desviacion estandar= 2.030325644378808\n",
            "Z_0= -0.6567\n",
            "ya que el intervalo de aceptacion es de 0.05\n",
            "la hipotesis se acepta\n"
          ]
        }
      ],
      "source": [
        "muestra=openpyxl.load_workbook(\"muestra3.xlsx\")\n",
        "a=muestra.active\n",
        "\n",
        "lista=[]\n",
        "b=[]\n",
        "c=[]\n",
        "d=[]\n",
        "m=1\n",
        "\n",
        "for row in range(0,a.max_row):#leer las filas del excel\n",
        "  for col in a.iter_cols(1, a.max_column):#leer columna de excel\n",
        "    xi=(col[row].value)#darle valor a la x con la celda leida\n",
        "    lista.append(xi)\n",
        "\n",
        "print(\"x_i: \",lista)\n",
        "e=len (lista)\n",
        "print(\"cantidad de elementos: \", e )\n",
        "i=1\n",
        "\n",
        "for i in range(i-1,e-1):\n",
        "  f=lista[i]\n",
        "  g=lista[i+1]\n",
        "\n",
        "  if g>f:\n",
        "    b.append(1)\n",
        "    d.append(1)\n",
        "\n",
        "  elif g<f:\n",
        "    c.append(0)\n",
        "    d.append(0)\n",
        "\n",
        "  i+=1\n",
        "print(\"s=\", d)\n",
        "lectura=[]\n",
        "\n",
        "s=len(d)\n",
        "i=0\n",
        "\n",
        "while i<s:\n",
        "\n",
        "  if len(d)>0:\n",
        "    almacen1=[]\n",
        "    almacen0=[]\n",
        "    h=d[i]\n",
        "    while h==1:\n",
        "      almacen1.append(1)\n",
        "      i+=1\n",
        "      if i<s:\n",
        "        h=d[i]\n",
        "      else:\n",
        "        break\n",
        "    lec1=len(almacen1)\n",
        "\n",
        "    while h==0:\n",
        "      almacen0.append(0)\n",
        "      i+=1\n",
        "      if i<s:\n",
        "        h=d[i]\n",
        "      else:\n",
        "        break\n",
        "    lec0=len(almacen0)\n",
        "\n",
        "    lectura.append(lec1)\n",
        "    lectura.append(lec0)\n",
        "    i-=1\n",
        "\n",
        "  i+=1\n",
        "g=len(lectura)-1\n",
        "\n",
        "print(\"corrida= \",g)\n",
        "lectura.pop()\n",
        "print(\"longitud= \", lectura)\n",
        "\n",
        "media=(2*(e)-1)/3\n",
        "print(\"Media=\", media)\n",
        "\n",
        "var=(16*(e)-29)/90\n",
        "print(\"Varianza=\", var)\n",
        "\n",
        "desv=var**0.5\n",
        "print(\"Desviacion estandar=\", desv)\n",
        "\n",
        "z0=(g-media)/(desv)\n",
        "print(\"Z_0=\", round(z0,4))\n",
        "\n",
        "#el intervalo de aceptacion\n",
        "\n",
        "print(\"ya que el intervalo de aceptacion es de 0.05\")\n",
        "\n",
        "zn=-1.96\n",
        "z=1.96\n",
        "\n",
        "if  zn < z0 < z:\n",
        "  print(\"la hipotesis se acepta\")\n",
        "else:\n",
        "  print(\"la hipotesis no se acepta\")\n",
        "\n"
      ]
    }
  ]
}